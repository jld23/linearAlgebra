{
 "cells": [
  {
   "cell_type": "markdown",
   "metadata": {},
   "source": [
    "# Overview\n",
    "\n",
    "This notebook continues the exercise of predicting car prices based on Craigslist listings.\n",
    "\n",
    "This notebook uses `pandas` and `scikit-learn` two popular Python packages for data science. \n",
    "\n",
    "In order to make the processing more efficient, a sample of the data has been taken.\n"
   ]
  },
  {
   "cell_type": "markdown",
   "metadata": {},
   "source": [
    "## Setup\n",
    "\n",
    "Here are the packages that need to be loaded to run this example\n",
    "\n",
    "These is where all the needed packages are imported for the exercise. If you get an `ModuleNotFoundError` then install the package (pip or conda) before continuing.These is where all the needed packages are imported for the exercise. If you get an `ModuleNotFoundError` then install the package (pip or conda) before continuing."
   ]
  },
  {
   "cell_type": "code",
   "execution_count": 2,
   "metadata": {},
   "outputs": [],
   "source": [
    "import time\n",
    "import feather\n",
    "import pandas as pd\n",
    "from pandas_profiling import ProfileReport\n",
    "from sklearn import preprocessing\n",
    "from sklearn.preprocessing import OneHotEncoder\n",
    "from sklearn.model_selection import train_test_split\n",
    "from sklearn.preprocessing import StandardScaler\n",
    "from sklearn.neural_network import MLPClassifier\n",
    "\n",
    "from sklearn.compose import ColumnTransformer\n",
    "from sklearn.pipeline import Pipeline\n",
    "from sklearn.impute import SimpleImputer\n",
    "\n",
    "from sklearn.linear_model import LinearRegression, LassoLars, ElasticNet, Ridge, HuberRegressor, PassiveAggressiveRegressor\n",
    "from sklearn.tree import DecisionTreeRegressor\n",
    "from sklearn.ensemble import RandomForestRegressor, GradientBoostingRegressor\n",
    "from sklearn.neural_network import MLPRegressor\n",
    "from sklearn.metrics import explained_variance_score, mean_squared_error"
   ]
  },
  {
   "cell_type": "markdown",
   "metadata": {},
   "source": [
    "# Code from Introduction to Data Science Exercise\n",
    "\n",
    "This code was used to create the profiles you used in earlier course in this series with the exception that this code is running on a 10% sample instead of the 500k+ listings."
   ]
  },
  {
   "cell_type": "markdown",
   "metadata": {},
   "source": [
    "## Read Sample Data from CSV to Pandas dataFrame"
   ]
  },
  {
   "cell_type": "code",
   "execution_count": 4,
   "metadata": {},
   "outputs": [],
   "source": [
    "cars = feather.read_dataframe('../data/vehicles_samp.feather')"
   ]
  },
  {
   "cell_type": "markdown",
   "metadata": {},
   "source": [
    "## Print first observations for sanity"
   ]
  },
  {
   "cell_type": "code",
   "execution_count": 5,
   "metadata": {},
   "outputs": [
    {
     "data": {
      "text/html": [
       "<div>\n",
       "<style scoped>\n",
       "    .dataframe tbody tr th:only-of-type {\n",
       "        vertical-align: middle;\n",
       "    }\n",
       "\n",
       "    .dataframe tbody tr th {\n",
       "        vertical-align: top;\n",
       "    }\n",
       "\n",
       "    .dataframe thead th {\n",
       "        text-align: right;\n",
       "    }\n",
       "</style>\n",
       "<table border=\"1\" class=\"dataframe\">\n",
       "  <thead>\n",
       "    <tr style=\"text-align: right;\">\n",
       "      <th></th>\n",
       "      <th>id</th>\n",
       "      <th>url</th>\n",
       "      <th>region</th>\n",
       "      <th>region_url</th>\n",
       "      <th>price</th>\n",
       "      <th>year</th>\n",
       "      <th>manufacturer</th>\n",
       "      <th>model</th>\n",
       "      <th>condition</th>\n",
       "      <th>cylinders</th>\n",
       "      <th>...</th>\n",
       "      <th>drive</th>\n",
       "      <th>size</th>\n",
       "      <th>type</th>\n",
       "      <th>paint_color</th>\n",
       "      <th>image_url</th>\n",
       "      <th>description</th>\n",
       "      <th>county</th>\n",
       "      <th>state</th>\n",
       "      <th>lat</th>\n",
       "      <th>long</th>\n",
       "    </tr>\n",
       "  </thead>\n",
       "  <tbody>\n",
       "    <tr>\n",
       "      <th>0</th>\n",
       "      <td>7092558387</td>\n",
       "      <td>https://houston.craigslist.org/ctd/d/houston-2...</td>\n",
       "      <td>houston</td>\n",
       "      <td>https://houston.craigslist.org</td>\n",
       "      <td>16583</td>\n",
       "      <td>2012.0</td>\n",
       "      <td>infiniti</td>\n",
       "      <td>qx56</td>\n",
       "      <td>None</td>\n",
       "      <td>8 cylinders</td>\n",
       "      <td>...</td>\n",
       "      <td>rwd</td>\n",
       "      <td>None</td>\n",
       "      <td>SUV</td>\n",
       "      <td>white</td>\n",
       "      <td>https://images.craigslist.org/01515_WqeZnzBK5i...</td>\n",
       "      <td>Use this link to see more information on this ...</td>\n",
       "      <td>NaN</td>\n",
       "      <td>tx</td>\n",
       "      <td>29.7845</td>\n",
       "      <td>-95.6562</td>\n",
       "    </tr>\n",
       "    <tr>\n",
       "      <th>1</th>\n",
       "      <td>7092434302</td>\n",
       "      <td>https://chicago.craigslist.org/chc/cto/d/jolie...</td>\n",
       "      <td>chicago</td>\n",
       "      <td>https://chicago.craigslist.org</td>\n",
       "      <td>14500</td>\n",
       "      <td>2010.0</td>\n",
       "      <td>None</td>\n",
       "      <td>international prostar</td>\n",
       "      <td>None</td>\n",
       "      <td>None</td>\n",
       "      <td>...</td>\n",
       "      <td>None</td>\n",
       "      <td>None</td>\n",
       "      <td>None</td>\n",
       "      <td>None</td>\n",
       "      <td>https://images.craigslist.org/00H0H_aa1n1IOq1m...</td>\n",
       "      <td>2010 INTERNATIONAL PROSTAR MOTOR CUMMINS ISX  ...</td>\n",
       "      <td>NaN</td>\n",
       "      <td>il</td>\n",
       "      <td>41.5378</td>\n",
       "      <td>-88.0572</td>\n",
       "    </tr>\n",
       "    <tr>\n",
       "      <th>2</th>\n",
       "      <td>7093160315</td>\n",
       "      <td>https://washingtondc.craigslist.org/doc/ctd/d/...</td>\n",
       "      <td>washington, DC</td>\n",
       "      <td>https://washingtondc.craigslist.org</td>\n",
       "      <td>21995</td>\n",
       "      <td>2015.0</td>\n",
       "      <td>ford</td>\n",
       "      <td>f150</td>\n",
       "      <td>excellent</td>\n",
       "      <td>6 cylinders</td>\n",
       "      <td>...</td>\n",
       "      <td>4wd</td>\n",
       "      <td>None</td>\n",
       "      <td>pickup</td>\n",
       "      <td>red</td>\n",
       "      <td>https://images.craigslist.org/00101_iRbIxt72oH...</td>\n",
       "      <td>Drive it home today. Call (Or Text) us now !!C...</td>\n",
       "      <td>NaN</td>\n",
       "      <td>dc</td>\n",
       "      <td>39.1858</td>\n",
       "      <td>-78.1827</td>\n",
       "    </tr>\n",
       "    <tr>\n",
       "      <th>3</th>\n",
       "      <td>7092772132</td>\n",
       "      <td>https://bham.craigslist.org/cto/d/birmingham-2...</td>\n",
       "      <td>birmingham</td>\n",
       "      <td>https://bham.craigslist.org</td>\n",
       "      <td>3000</td>\n",
       "      <td>2004.0</td>\n",
       "      <td>ford</td>\n",
       "      <td>expedition xlt</td>\n",
       "      <td>good</td>\n",
       "      <td>8 cylinders</td>\n",
       "      <td>...</td>\n",
       "      <td>fwd</td>\n",
       "      <td>full-size</td>\n",
       "      <td>SUV</td>\n",
       "      <td>brown</td>\n",
       "      <td>https://images.craigslist.org/00k0k_1UF9dtsc3r...</td>\n",
       "      <td>Great work truck.  Lots of road miles...  We w...</td>\n",
       "      <td>NaN</td>\n",
       "      <td>al</td>\n",
       "      <td>33.4995</td>\n",
       "      <td>-86.7268</td>\n",
       "    </tr>\n",
       "    <tr>\n",
       "      <th>4</th>\n",
       "      <td>7085813538</td>\n",
       "      <td>https://ocala.craigslist.org/ctd/d/atlanta-201...</td>\n",
       "      <td>ocala</td>\n",
       "      <td>https://ocala.craigslist.org</td>\n",
       "      <td>18000</td>\n",
       "      <td>2019.0</td>\n",
       "      <td>kia</td>\n",
       "      <td>optima lx sedan 4d</td>\n",
       "      <td>good</td>\n",
       "      <td>None</td>\n",
       "      <td>...</td>\n",
       "      <td>fwd</td>\n",
       "      <td>None</td>\n",
       "      <td>sedan</td>\n",
       "      <td>silver</td>\n",
       "      <td>https://images.craigslist.org/00505_cjsO7sBEzL...</td>\n",
       "      <td>Welcome to Carvana—the new way to buy a car (e...</td>\n",
       "      <td>NaN</td>\n",
       "      <td>fl</td>\n",
       "      <td>33.7792</td>\n",
       "      <td>-84.4118</td>\n",
       "    </tr>\n",
       "  </tbody>\n",
       "</table>\n",
       "<p>5 rows × 25 columns</p>\n",
       "</div>"
      ],
      "text/plain": [
       "           id                                                url  \\\n",
       "0  7092558387  https://houston.craigslist.org/ctd/d/houston-2...   \n",
       "1  7092434302  https://chicago.craigslist.org/chc/cto/d/jolie...   \n",
       "2  7093160315  https://washingtondc.craigslist.org/doc/ctd/d/...   \n",
       "3  7092772132  https://bham.craigslist.org/cto/d/birmingham-2...   \n",
       "4  7085813538  https://ocala.craigslist.org/ctd/d/atlanta-201...   \n",
       "\n",
       "           region                           region_url  price    year  \\\n",
       "0         houston       https://houston.craigslist.org  16583  2012.0   \n",
       "1         chicago       https://chicago.craigslist.org  14500  2010.0   \n",
       "2  washington, DC  https://washingtondc.craigslist.org  21995  2015.0   \n",
       "3      birmingham          https://bham.craigslist.org   3000  2004.0   \n",
       "4           ocala         https://ocala.craigslist.org  18000  2019.0   \n",
       "\n",
       "  manufacturer                  model  condition    cylinders  ... drive  \\\n",
       "0     infiniti                   qx56       None  8 cylinders  ...   rwd   \n",
       "1         None  international prostar       None         None  ...  None   \n",
       "2         ford                   f150  excellent  6 cylinders  ...   4wd   \n",
       "3         ford         expedition xlt       good  8 cylinders  ...   fwd   \n",
       "4          kia     optima lx sedan 4d       good         None  ...   fwd   \n",
       "\n",
       "        size    type paint_color  \\\n",
       "0       None     SUV       white   \n",
       "1       None    None        None   \n",
       "2       None  pickup         red   \n",
       "3  full-size     SUV       brown   \n",
       "4       None   sedan      silver   \n",
       "\n",
       "                                           image_url  \\\n",
       "0  https://images.craigslist.org/01515_WqeZnzBK5i...   \n",
       "1  https://images.craigslist.org/00H0H_aa1n1IOq1m...   \n",
       "2  https://images.craigslist.org/00101_iRbIxt72oH...   \n",
       "3  https://images.craigslist.org/00k0k_1UF9dtsc3r...   \n",
       "4  https://images.craigslist.org/00505_cjsO7sBEzL...   \n",
       "\n",
       "                                         description county state      lat  \\\n",
       "0  Use this link to see more information on this ...    NaN    tx  29.7845   \n",
       "1  2010 INTERNATIONAL PROSTAR MOTOR CUMMINS ISX  ...    NaN    il  41.5378   \n",
       "2  Drive it home today. Call (Or Text) us now !!C...    NaN    dc  39.1858   \n",
       "3  Great work truck.  Lots of road miles...  We w...    NaN    al  33.4995   \n",
       "4  Welcome to Carvana—the new way to buy a car (e...    NaN    fl  33.7792   \n",
       "\n",
       "      long  \n",
       "0 -95.6562  \n",
       "1 -88.0572  \n",
       "2 -78.1827  \n",
       "3 -86.7268  \n",
       "4 -84.4118  \n",
       "\n",
       "[5 rows x 25 columns]"
      ]
     },
     "execution_count": 5,
     "metadata": {},
     "output_type": "execute_result"
    }
   ],
   "source": [
    "cars.head()"
   ]
  },
  {
   "cell_type": "markdown",
   "metadata": {},
   "source": [
    "## Print the columns and their respective types for the cars dataFrame"
   ]
  },
  {
   "cell_type": "code",
   "execution_count": 7,
   "metadata": {},
   "outputs": [
    {
     "name": "stdout",
     "output_type": "stream",
     "text": [
      "<class 'pandas.core.frame.DataFrame'>\n",
      "RangeIndex: 53976 entries, 0 to 53975\n",
      "Data columns (total 25 columns):\n",
      " #   Column        Non-Null Count  Dtype  \n",
      "---  ------        --------------  -----  \n",
      " 0   id            53976 non-null  int64  \n",
      " 1   url           53976 non-null  object \n",
      " 2   region        53976 non-null  object \n",
      " 3   region_url    53976 non-null  object \n",
      " 4   price         53976 non-null  int64  \n",
      " 5   year          53888 non-null  float64\n",
      " 6   manufacturer  51622 non-null  object \n",
      " 7   model         53187 non-null  object \n",
      " 8   condition     30499 non-null  object \n",
      " 9   cylinders     32189 non-null  object \n",
      " 10  fuel          53642 non-null  object \n",
      " 11  odometer      44124 non-null  float64\n",
      " 12  title_status  53683 non-null  object \n",
      " 13  transmission  53587 non-null  object \n",
      " 14  vin           31467 non-null  object \n",
      " 15  drive         38361 non-null  object \n",
      " 16  size          16826 non-null  object \n",
      " 17  type          39360 non-null  object \n",
      " 18  paint_color   36692 non-null  object \n",
      " 19  image_url     53976 non-null  object \n",
      " 20  description   53976 non-null  object \n",
      " 21  county        0 non-null      float64\n",
      " 22  state         53976 non-null  object \n",
      " 23  lat           53112 non-null  float64\n",
      " 24  long          53112 non-null  float64\n",
      "dtypes: float64(5), int64(2), object(18)\n",
      "memory usage: 10.3+ MB\n"
     ]
    }
   ],
   "source": [
    "cars.info()"
   ]
  },
  {
   "cell_type": "markdown",
   "metadata": {},
   "source": [
    "## Create profile of full dataset using `pandas-profile`"
   ]
  },
  {
   "cell_type": "code",
   "execution_count": 8,
   "metadata": {},
   "outputs": [
    {
     "name": "stderr",
     "output_type": "stream",
     "text": [
      "Summarize dataset: 100%|██████████| 39/39 [00:25<00:00,  1.52it/s, Completed]                     \n",
      "Generate report structure: 100%|██████████| 1/1 [00:06<00:00,  6.66s/it]\n",
      "Render HTML: 100%|██████████| 1/1 [00:01<00:00,  1.99s/it]\n",
      "Export report to file: 100%|██████████| 1/1 [00:00<00:00, 88.49it/s]\n"
     ]
    }
   ],
   "source": [
    "prof = ProfileReport(cars)\n",
    "prof.to_file(output_file='vehicle_profile.html')"
   ]
  },
  {
   "cell_type": "markdown",
   "metadata": {},
   "source": [
    "## Filter the data for cars with more than 300,000 miles and sort decending\n",
    "\n",
    "This is an example of how Python programers can chain methods to each other to accomplish multiple tasks in the same line of code"
   ]
  },
  {
   "cell_type": "code",
   "execution_count": 9,
   "metadata": {},
   "outputs": [
    {
     "data": {
      "text/html": [
       "<div>\n",
       "<style scoped>\n",
       "    .dataframe tbody tr th:only-of-type {\n",
       "        vertical-align: middle;\n",
       "    }\n",
       "\n",
       "    .dataframe tbody tr th {\n",
       "        vertical-align: top;\n",
       "    }\n",
       "\n",
       "    .dataframe thead th {\n",
       "        text-align: right;\n",
       "    }\n",
       "</style>\n",
       "<table border=\"1\" class=\"dataframe\">\n",
       "  <thead>\n",
       "    <tr style=\"text-align: right;\">\n",
       "      <th></th>\n",
       "      <th>year</th>\n",
       "      <th>price</th>\n",
       "      <th>odometer</th>\n",
       "      <th>model</th>\n",
       "    </tr>\n",
       "  </thead>\n",
       "  <tbody>\n",
       "    <tr>\n",
       "      <th>22587</th>\n",
       "      <td>1962.0</td>\n",
       "      <td>2000</td>\n",
       "      <td>10000000.0</td>\n",
       "      <td>180d</td>\n",
       "    </tr>\n",
       "    <tr>\n",
       "      <th>34185</th>\n",
       "      <td>1990.0</td>\n",
       "      <td>10500</td>\n",
       "      <td>9999999.0</td>\n",
       "      <td>1990 nternational</td>\n",
       "    </tr>\n",
       "    <tr>\n",
       "      <th>612</th>\n",
       "      <td>1999.0</td>\n",
       "      <td>700</td>\n",
       "      <td>9000000.0</td>\n",
       "      <td>cavalier</td>\n",
       "    </tr>\n",
       "    <tr>\n",
       "      <th>3942</th>\n",
       "      <td>2012.0</td>\n",
       "      <td>8500</td>\n",
       "      <td>7691300.0</td>\n",
       "      <td>journey</td>\n",
       "    </tr>\n",
       "    <tr>\n",
       "      <th>22613</th>\n",
       "      <td>2019.0</td>\n",
       "      <td>5000</td>\n",
       "      <td>4728224.0</td>\n",
       "      <td>silverado 1500</td>\n",
       "    </tr>\n",
       "  </tbody>\n",
       "</table>\n",
       "</div>"
      ],
      "text/plain": [
       "         year  price    odometer              model\n",
       "22587  1962.0   2000  10000000.0               180d\n",
       "34185  1990.0  10500   9999999.0  1990 nternational\n",
       "612    1999.0    700   9000000.0           cavalier\n",
       "3942   2012.0   8500   7691300.0            journey\n",
       "22613  2019.0   5000   4728224.0     silverado 1500"
      ]
     },
     "execution_count": 9,
     "metadata": {},
     "output_type": "execute_result"
    }
   ],
   "source": [
    "cars[cars['odometer']>300000].filter(items=['year','price','odometer','model']).sort_values('odometer', ascending=False).head()\n",
    "#filter(items=['one', 'three'])\n",
    "#,['year','price','odometer','model']]"
   ]
  },
  {
   "cell_type": "markdown",
   "metadata": {},
   "source": [
    "## Filter the number of columns\n",
    "\n",
    "With wide datasets it is often hard to see all the columns. The code below is an example of how the columns can be filtered to just those that are desired.\n",
    "\n",
    "As with all things Python, there are many ways to accomplish this task"
   ]
  },
  {
   "cell_type": "code",
   "execution_count": 10,
   "metadata": {},
   "outputs": [
    {
     "data": {
      "text/html": [
       "<div>\n",
       "<style scoped>\n",
       "    .dataframe tbody tr th:only-of-type {\n",
       "        vertical-align: middle;\n",
       "    }\n",
       "\n",
       "    .dataframe tbody tr th {\n",
       "        vertical-align: top;\n",
       "    }\n",
       "\n",
       "    .dataframe thead th {\n",
       "        text-align: right;\n",
       "    }\n",
       "</style>\n",
       "<table border=\"1\" class=\"dataframe\">\n",
       "  <thead>\n",
       "    <tr style=\"text-align: right;\">\n",
       "      <th></th>\n",
       "      <th>year</th>\n",
       "      <th>price</th>\n",
       "      <th>odometer</th>\n",
       "      <th>model</th>\n",
       "    </tr>\n",
       "  </thead>\n",
       "  <tbody>\n",
       "    <tr>\n",
       "      <th>22587</th>\n",
       "      <td>1962.0</td>\n",
       "      <td>2000</td>\n",
       "      <td>10000000.0</td>\n",
       "      <td>180d</td>\n",
       "    </tr>\n",
       "    <tr>\n",
       "      <th>34185</th>\n",
       "      <td>1990.0</td>\n",
       "      <td>10500</td>\n",
       "      <td>9999999.0</td>\n",
       "      <td>1990 nternational</td>\n",
       "    </tr>\n",
       "    <tr>\n",
       "      <th>612</th>\n",
       "      <td>1999.0</td>\n",
       "      <td>700</td>\n",
       "      <td>9000000.0</td>\n",
       "      <td>cavalier</td>\n",
       "    </tr>\n",
       "    <tr>\n",
       "      <th>3942</th>\n",
       "      <td>2012.0</td>\n",
       "      <td>8500</td>\n",
       "      <td>7691300.0</td>\n",
       "      <td>journey</td>\n",
       "    </tr>\n",
       "    <tr>\n",
       "      <th>22613</th>\n",
       "      <td>2019.0</td>\n",
       "      <td>5000</td>\n",
       "      <td>4728224.0</td>\n",
       "      <td>silverado 1500</td>\n",
       "    </tr>\n",
       "  </tbody>\n",
       "</table>\n",
       "</div>"
      ],
      "text/plain": [
       "         year  price    odometer              model\n",
       "22587  1962.0   2000  10000000.0               180d\n",
       "34185  1990.0  10500   9999999.0  1990 nternational\n",
       "612    1999.0    700   9000000.0           cavalier\n",
       "3942   2012.0   8500   7691300.0            journey\n",
       "22613  2019.0   5000   4728224.0     silverado 1500"
      ]
     },
     "execution_count": 10,
     "metadata": {},
     "output_type": "execute_result"
    }
   ],
   "source": [
    "cars.filter(items=['year','price','odometer','model']).sort_values('odometer', ascending=False).head()\n"
   ]
  },
  {
   "cell_type": "code",
   "execution_count": 11,
   "metadata": {},
   "outputs": [
    {
     "data": {
      "text/html": [
       "<div>\n",
       "<style scoped>\n",
       "    .dataframe tbody tr th:only-of-type {\n",
       "        vertical-align: middle;\n",
       "    }\n",
       "\n",
       "    .dataframe tbody tr th {\n",
       "        vertical-align: top;\n",
       "    }\n",
       "\n",
       "    .dataframe thead th {\n",
       "        text-align: right;\n",
       "    }\n",
       "</style>\n",
       "<table border=\"1\" class=\"dataframe\">\n",
       "  <thead>\n",
       "    <tr style=\"text-align: right;\">\n",
       "      <th></th>\n",
       "      <th>year</th>\n",
       "      <th>price</th>\n",
       "      <th>odometer</th>\n",
       "      <th>model</th>\n",
       "    </tr>\n",
       "  </thead>\n",
       "  <tbody>\n",
       "    <tr>\n",
       "      <th>11052</th>\n",
       "      <td>2005.0</td>\n",
       "      <td>3755744318</td>\n",
       "      <td>154000.0</td>\n",
       "      <td>f150 4 x 4</td>\n",
       "    </tr>\n",
       "    <tr>\n",
       "      <th>22414</th>\n",
       "      <td>2008.0</td>\n",
       "      <td>3567587327</td>\n",
       "      <td>119501.0</td>\n",
       "      <td>ranger super cab</td>\n",
       "    </tr>\n",
       "    <tr>\n",
       "      <th>1130</th>\n",
       "      <td>2017.0</td>\n",
       "      <td>3253587287</td>\n",
       "      <td>28986.0</td>\n",
       "      <td>silverado 1500 crew cab</td>\n",
       "    </tr>\n",
       "    <tr>\n",
       "      <th>26968</th>\n",
       "      <td>1955.0</td>\n",
       "      <td>123456789</td>\n",
       "      <td>NaN</td>\n",
       "      <td>NaN</td>\n",
       "    </tr>\n",
       "    <tr>\n",
       "      <th>30892</th>\n",
       "      <td>1955.0</td>\n",
       "      <td>123456789</td>\n",
       "      <td>NaN</td>\n",
       "      <td>NaN</td>\n",
       "    </tr>\n",
       "  </tbody>\n",
       "</table>\n",
       "</div>"
      ],
      "text/plain": [
       "         year       price  odometer                    model\n",
       "11052  2005.0  3755744318  154000.0               f150 4 x 4\n",
       "22414  2008.0  3567587327  119501.0         ranger super cab\n",
       "1130   2017.0  3253587287   28986.0  silverado 1500 crew cab\n",
       "26968  1955.0   123456789       NaN                      NaN\n",
       "30892  1955.0   123456789       NaN                      NaN"
      ]
     },
     "execution_count": 11,
     "metadata": {},
     "output_type": "execute_result"
    }
   ],
   "source": [
    "cars.filter(items=['year','price','odometer','model']).sort_values('price', ascending=False).head()"
   ]
  },
  {
   "cell_type": "markdown",
   "metadata": {},
   "source": [
    "# Create new dataFrame `cars2` \n",
    "\n",
    "`cars2` only includes listings that meet all the following criteria\n",
    "*    newer than 2000\n",
    "*    cost less than $40,000\n",
    "*    have less than 100,000 miles"
   ]
  },
  {
   "cell_type": "code",
   "execution_count": 12,
   "metadata": {},
   "outputs": [],
   "source": [
    "cars2 = cars[(cars['year']>2000) & (cars['price']<40000) & (cars['odometer']<100000)]"
   ]
  },
  {
   "cell_type": "markdown",
   "metadata": {},
   "source": [
    "## Comparing the shape of `cars` and `cars2`\n",
    "\n",
    "I want to see how many rows and columns `cars` has and how many were lost due to the `filter` method\n",
    "\n",
    "The data shows a reduction from 540K to 219K"
   ]
  },
  {
   "cell_type": "code",
   "execution_count": 13,
   "metadata": {},
   "outputs": [
    {
     "data": {
      "text/plain": [
       "(53976, 25)"
      ]
     },
     "execution_count": 13,
     "metadata": {},
     "output_type": "execute_result"
    }
   ],
   "source": [
    "cars.shape"
   ]
  },
  {
   "cell_type": "code",
   "execution_count": 14,
   "metadata": {},
   "outputs": [
    {
     "data": {
      "text/plain": [
       "(22002, 25)"
      ]
     },
     "execution_count": 14,
     "metadata": {},
     "output_type": "execute_result"
    }
   ],
   "source": [
    "cars2.shape"
   ]
  },
  {
   "cell_type": "code",
   "execution_count": 15,
   "metadata": {},
   "outputs": [
    {
     "name": "stderr",
     "output_type": "stream",
     "text": [
      "Summarize dataset: 100%|██████████| 40/40 [00:15<00:00,  2.50it/s, Completed]                     \n",
      "Generate report structure: 100%|██████████| 1/1 [00:06<00:00,  6.92s/it]\n",
      "Render HTML: 100%|██████████| 1/1 [00:02<00:00,  2.30s/it]\n",
      "Export report to file: 100%|██████████| 1/1 [00:00<00:00, 61.87it/s]\n"
     ]
    }
   ],
   "source": [
    "prof = ProfileReport(cars2)\n",
    "prof.to_file(output_file='vehicle_profile2.html')"
   ]
  },
  {
   "cell_type": "code",
   "execution_count": 16,
   "metadata": {},
   "outputs": [],
   "source": [
    "cars2.to_csv('../data/cars2.zip')"
   ]
  },
  {
   "cell_type": "code",
   "execution_count": 17,
   "metadata": {},
   "outputs": [],
   "source": [
    "cars2 = pd.read_csv('../data/cars2.zip')"
   ]
  },
  {
   "cell_type": "code",
   "execution_count": 18,
   "metadata": {},
   "outputs": [
    {
     "data": {
      "text/plain": [
       "Unnamed: 0        int64\n",
       "id                int64\n",
       "url              object\n",
       "region           object\n",
       "region_url       object\n",
       "price             int64\n",
       "year            float64\n",
       "manufacturer     object\n",
       "model            object\n",
       "condition        object\n",
       "cylinders        object\n",
       "fuel             object\n",
       "odometer        float64\n",
       "title_status     object\n",
       "transmission     object\n",
       "vin              object\n",
       "drive            object\n",
       "size             object\n",
       "type             object\n",
       "paint_color      object\n",
       "image_url        object\n",
       "description      object\n",
       "county          float64\n",
       "state            object\n",
       "lat             float64\n",
       "long            float64\n",
       "dtype: object"
      ]
     },
     "execution_count": 18,
     "metadata": {},
     "output_type": "execute_result"
    }
   ],
   "source": [
    "cars2.dtypes"
   ]
  },
  {
   "cell_type": "markdown",
   "metadata": {},
   "source": [
    "# Introduction to Modeling and Machine Learning\n",
    "\n",
    "The rest of this notebook is work that should be completed along with the Modeling and Machine Learning course\n",
    "\n"
   ]
  },
  {
   "cell_type": "markdown",
   "metadata": {},
   "source": [
    "# Setup for data prep and modeling\n",
    "\n",
    "To make the code more portable and easier to update. In the cell below I will define the inputs and targets.\n",
    "\n",
    "The inputs are the attributes of a car that will be used to predict the price, which is the target.\n",
    "\n",
    "To deal with missing values, there are different treatments for nominal vs interval data. Below lists are defined to identify the type of each variable.\n",
    "\n",
    "The virtue of this type of organization is that to add or subtract a variable from the model, it only requires modifications to this cell and then a rerun of the code below. \n",
    "\n",
    "It also allows more copy/paste from project to projects saving time in the long run."
   ]
  },
  {
   "cell_type": "code",
   "execution_count": 9,
   "metadata": {},
   "outputs": [
    {
     "name": "stdout",
     "output_type": "stream",
     "text": [
      "(218870, 17) (218870,)\n"
     ]
    }
   ],
   "source": [
    "inputs = cars2.drop(columns=['price','id','url','region_url','vin','description','county','image_url'])\n",
    "nominal = ['region', 'manufacturer', 'fuel', 'model','title_status','transmission', 'drive', 'type','paint_color','state']\n",
    "ordinal = ['condition','size','cylinders']\n",
    "interval = ['year','odometer','lat','long']\n",
    "target = cars2.price\n",
    "print(inputs.shape, target.shape)\n"
   ]
  },
  {
   "cell_type": "markdown",
   "metadata": {},
   "source": [
    "## Create Pipelines\n",
    "\n",
    "A `pipeline` is a process or set of steps that you want to organize into specific pattern.\n",
    "\n",
    "In this pipeline below, each variable is imputed if it is missing based on its type and then scaled to improve model performance (scaling input is a best practice along with spliting data to training and validation)."
   ]
  },
  {
   "cell_type": "code",
   "execution_count": 10,
   "metadata": {},
   "outputs": [],
   "source": [
    "numeric_transformer = Pipeline(steps=[\n",
    "    ('imputer', SimpleImputer(strategy='median')),\n",
    "    ('scaler', StandardScaler())])\n",
    "\n",
    "categorical_transformer = Pipeline(steps=[\n",
    "    ('imputer', SimpleImputer(strategy='constant', fill_value='missing')),\n",
    "    ('onehot', OneHotEncoder(handle_unknown='ignore'))])\n",
    "\n",
    "preprocessor = ColumnTransformer(\n",
    "    transformers=[\n",
    "        ('num', numeric_transformer, interval),\n",
    "        ('cat', categorical_transformer, nominal),\n",
    "        ('ord', categorical_transformer, ordinal)])"
   ]
  },
  {
   "cell_type": "markdown",
   "metadata": {},
   "source": [
    "## Split the data into training and validation (70/30)"
   ]
  },
  {
   "cell_type": "code",
   "execution_count": 11,
   "metadata": {},
   "outputs": [],
   "source": [
    "input_train, input_test, target_train, target_test = train_test_split(inputs, target, test_size = 0.30, random_state=9878)"
   ]
  },
  {
   "cell_type": "markdown",
   "metadata": {},
   "source": [
    "# Build the models\n",
    "\n",
    "In the code below a list of many algorythnms is provided and for each a model is build on the training data. \n",
    "\n",
    "The model is then applied to the validation data and assessment metrics are calculated.\n",
    "\n",
    "The assessment metrics are then printed so that comparisons can be made.\n",
    "\n",
    "**Remember:** there is no single best modeling algorthym so you should try many types and parameterizations based on the business problems"
   ]
  },
  {
   "cell_type": "code",
   "execution_count": 62,
   "metadata": {},
   "outputs": [],
   "source": [
    "# Creates a results DataFrame. This code is in a different cell to prevent loss run to run.\n",
    "results_df = pd.DataFrame(columns=('model','r_2','explainedVariance','mse','buildTime','scoreTime'))\n",
    "results_df['r_2'] = results_df['r_2'].map('${:,.4f}'.format)\n",
    "results_df['explainedVariance'] = results_df['explainedVariance'].map('${:,.4f}'.format)\n",
    "results_df['mse'] = results_df['mse'].map('${:,.0f}'.format)\n",
    "results_df['buildTime'] = results_df['buildTime'].map('${:,.1f}'.format)\n",
    "results_df['scoreTime'] = results_df['scoreTime'].map('${:,.1f}'.format)"
   ]
  },
  {
   "cell_type": "code",
   "execution_count": 67,
   "metadata": {},
   "outputs": [
    {
     "name": "stdout",
     "output_type": "stream",
     "text": [
      "model score for MLPRegressor(): R_2: 0.6342 Explained Variance:0.6342 MSE:37016331 Build Time(s):19540.3 Score Time(s):2.1\n",
      "CPU times: user 14h 42min 43s, sys: 2h 16min 48s, total: 16h 59min 31s\n",
      "Wall time: 5h 25min 45s\n"
     ]
    }
   ],
   "source": [
    "%%time\n",
    "# List of models to run\n",
    "model_list = [LinearRegression(), ElasticNet(), Ridge(), HuberRegressor(), PassiveAggressiveRegressor(), DecisionTreeRegressor(), RandomForestRegressor(), GradientBoostingRegressor(), MLPRegressor()]\n",
    "model_list = [MLPRegressor(early_stopping=True, hidden_layer_sizes=(3,50))]\n",
    "# LassoLars(), \n",
    "\n",
    "# loop through model list\n",
    "for model in model_list:\n",
    "    build_model = Pipeline(steps=[\n",
    "        ('preprocessor', preprocessor),\n",
    "        ('model', model)])\n",
    "    ts_build = time.time()\n",
    "    build_model.fit(input_train, target_train)\n",
    "    ts_score = time.time()\n",
    "    target_pred = build_model.predict(input_test)\n",
    "    ts_done = time.time()\n",
    "    results = pd.DataFrame([[model, \n",
    "                build_model.score(input_test, target_test), \n",
    "                explained_variance_score(target_test, target_pred), \n",
    "                mean_squared_error(target_test, target_pred), \n",
    "                ts_score-ts_build, \n",
    "                ts_done-ts_score]], columns=results_df.columns)\n",
    "    # append results to dataFrame\n",
    "    results_df = results_df.append(results, ignore_index=True)\n",
    "\n",
    "    print(\"model score for {}: R_2: {:0.4f} Explained Variance:{:0.4f} MSE:{:0.0f} Build Time(s):{:0.1f} Score Time(s):{:0.1f}\".format(model, build_model.score(input_test, target_test), explained_variance_score(target_test, target_pred), mean_squared_error(target_test, target_pred), ts_score-ts_build, ts_done-ts_score))"
   ]
  },
  {
   "cell_type": "code",
   "execution_count": 78,
   "metadata": {},
   "outputs": [
    {
     "data": {
      "text/html": [
       "<div>\n",
       "<style scoped>\n",
       "    .dataframe tbody tr th:only-of-type {\n",
       "        vertical-align: middle;\n",
       "    }\n",
       "\n",
       "    .dataframe tbody tr th {\n",
       "        vertical-align: top;\n",
       "    }\n",
       "\n",
       "    .dataframe thead th {\n",
       "        text-align: right;\n",
       "    }\n",
       "</style>\n",
       "<table border=\"1\" class=\"dataframe\">\n",
       "  <thead>\n",
       "    <tr style=\"text-align: right;\">\n",
       "      <th></th>\n",
       "      <th>model</th>\n",
       "      <th>r_2</th>\n",
       "      <th>explainedVariance</th>\n",
       "      <th>mse</th>\n",
       "      <th>buildTime</th>\n",
       "      <th>scoreTime</th>\n",
       "    </tr>\n",
       "  </thead>\n",
       "  <tbody>\n",
       "    <tr>\n",
       "      <th>0</th>\n",
       "      <td>ElasticNet()</td>\n",
       "      <td>$0.2273</td>\n",
       "      <td>$0.2273</td>\n",
       "      <td>$78,199,094</td>\n",
       "      <td>$21.1</td>\n",
       "      <td>$0.4</td>\n",
       "    </tr>\n",
       "    <tr>\n",
       "      <th>1</th>\n",
       "      <td>Ridge()</td>\n",
       "      <td>$0.5074</td>\n",
       "      <td>$0.5074</td>\n",
       "      <td>$49,848,804</td>\n",
       "      <td>$3.6</td>\n",
       "      <td>$0.4</td>\n",
       "    </tr>\n",
       "    <tr>\n",
       "      <th>2</th>\n",
       "      <td>HuberRegressor()</td>\n",
       "      <td>$0.4090</td>\n",
       "      <td>$0.4201</td>\n",
       "      <td>$59,806,606</td>\n",
       "      <td>$6.2</td>\n",
       "      <td>$0.4</td>\n",
       "    </tr>\n",
       "    <tr>\n",
       "      <th>3</th>\n",
       "      <td>ElasticNet(selection='random')</td>\n",
       "      <td>$0.2273</td>\n",
       "      <td>$0.2273</td>\n",
       "      <td>$78,199,078</td>\n",
       "      <td>$64.4</td>\n",
       "      <td>$0.4</td>\n",
       "    </tr>\n",
       "    <tr>\n",
       "      <th>4</th>\n",
       "      <td>Ridge()</td>\n",
       "      <td>$0.5074</td>\n",
       "      <td>$0.5074</td>\n",
       "      <td>$49,848,804</td>\n",
       "      <td>$3.7</td>\n",
       "      <td>$0.4</td>\n",
       "    </tr>\n",
       "    <tr>\n",
       "      <th>5</th>\n",
       "      <td>HuberRegressor()</td>\n",
       "      <td>$0.4090</td>\n",
       "      <td>$0.4201</td>\n",
       "      <td>$59,806,606</td>\n",
       "      <td>$6.1</td>\n",
       "      <td>$0.4</td>\n",
       "    </tr>\n",
       "    <tr>\n",
       "      <th>6</th>\n",
       "      <td>MLPRegressor()</td>\n",
       "      <td>$0.6342</td>\n",
       "      <td>$0.6342</td>\n",
       "      <td>$37,016,331</td>\n",
       "      <td>$19,540.3</td>\n",
       "      <td>$2.1</td>\n",
       "    </tr>\n",
       "  </tbody>\n",
       "</table>\n",
       "</div>"
      ],
      "text/plain": [
       "                            model      r_2 explainedVariance          mse  \\\n",
       "0                    ElasticNet()  $0.2273           $0.2273  $78,199,094   \n",
       "1                         Ridge()  $0.5074           $0.5074  $49,848,804   \n",
       "2                HuberRegressor()  $0.4090           $0.4201  $59,806,606   \n",
       "3  ElasticNet(selection='random')  $0.2273           $0.2273  $78,199,078   \n",
       "4                         Ridge()  $0.5074           $0.5074  $49,848,804   \n",
       "5                HuberRegressor()  $0.4090           $0.4201  $59,806,606   \n",
       "6                  MLPRegressor()  $0.6342           $0.6342  $37,016,331   \n",
       "\n",
       "   buildTime scoreTime  \n",
       "0      $21.1      $0.4  \n",
       "1       $3.6      $0.4  \n",
       "2       $6.2      $0.4  \n",
       "3      $64.4      $0.4  \n",
       "4       $3.7      $0.4  \n",
       "5       $6.1      $0.4  \n",
       "6  $19,540.3      $2.1  "
      ]
     },
     "execution_count": 78,
     "metadata": {},
     "output_type": "execute_result"
    }
   ],
   "source": [
    "#results_df['r_2'] = results_df['r_2'].map('{:0.4f}'.format)\n",
    "#results_df['explainedVariance'] = results_df['explainedVariance'].map('{:0.4f}'.format)\n",
    "#results_df['mse'] = results_df['mse'].map('{:,0.0f}'.format)\n",
    "#results_df['buildTime'] = results_df['buildTime'].map('{:.1f}'.format)\n",
    "#results_df['scoreTime'] = results_df['scoreTime'].map('{:.1f}'.format)\n",
    "results_df"
   ]
  },
  {
   "cell_type": "code",
   "execution_count": null,
   "metadata": {},
   "outputs": [],
   "source": [
    "scaler = StandardScaler()\n",
    "scaler.fit(input_train.loc[interval])\n",
    "\n",
    "onehot = OneHotEncoder(dtype=np.int, sparse=True)\n",
    "onehot.fit(input_train.loc[nominal])\n",
    "\n",
    "input_train_nominal = onehot.transform(input_train.loc[nominal])\n",
    "input_train_interval = scaler.transform(input_train.loc[interval])\n",
    "input_test = scaler.transform(input_test)"
   ]
  },
  {
   "cell_type": "code",
   "execution_count": null,
   "metadata": {},
   "outputs": [],
   "source": [
    "import numpy as np\n",
    "import pandas as pd\n",
    "from sklearn.metrics import roc_curve, auc\n",
    "from sklearn.metrics import accuracy_score, recall_score, precision_score\n",
    "from sklearn.model_selection import cross_val_score\n",
    "\n",
    "\n",
    "\n",
    "def displaymetrics(code: list, models: list, X_train: np.array, X_test: np.array, X: pd.DataFrame):\n",
    "    for model in models:  # or for i in range(0, len(models)):\n",
    "        y_score = model.fit(X_train, y_train).decision_function(X_test)\n",
    "        # or y_score = models[i].fit(X_train, y_train).decision_function(X_test)\n",
    "        fpr, tpr, _ = roc_curve(y_test, y_score)\n",
    "        # etc etc"
   ]
  }
 ],
 "metadata": {
  "kernelspec": {
   "display_name": "Python 3.7.0 64-bit ('base': conda)",
   "language": "python",
   "name": "python37064bitbaseconda74f6bf482b3748dfab216fe046a8ef20"
  },
  "language_info": {
   "codemirror_mode": {
    "name": "ipython",
    "version": 3
   },
   "file_extension": ".py",
   "mimetype": "text/x-python",
   "name": "python",
   "nbconvert_exporter": "python",
   "pygments_lexer": "ipython3",
   "version": "3.7.6"
  }
 },
 "nbformat": 4,
 "nbformat_minor": 4
}
