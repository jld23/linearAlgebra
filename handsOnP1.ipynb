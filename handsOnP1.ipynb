{
 "cells": [
  {
   "cell_type": "markdown",
   "metadata": {},
   "source": [
    "# Welcome\n",
    "\n",
    "This notebook will walk through an example of how you can use hte package `numpy` to introduce you to the linear algebra concepts of **Scalars, Vectors, and Matrices** "
   ]
  },
  {
   "cell_type": "markdown",
   "metadata": {},
   "source": [
    "## Setup"
   ]
  },
  {
   "cell_type": "code",
   "execution_count": 1,
   "metadata": {},
   "outputs": [],
   "source": [
    "import numpy as np \n"
   ]
  },
  {
   "cell_type": "markdown",
   "metadata": {},
   "source": [
    "## Print the `numpy` version and set the random seed\n",
    "\n",
    "The code below will let you know the version of `numpy` that you're using. The behavior of these functions should be static across many if not all versions of `numpy`. This noteboook was created using version 1.18.3"
   ]
  },
  {
   "cell_type": "code",
   "execution_count": 2,
   "metadata": {},
   "outputs": [
    {
     "output_type": "execute_result",
     "data": {
      "text/plain": "'1.18.3'"
     },
     "metadata": {},
     "execution_count": 2
    }
   ],
   "source": [
    "np.__version__"
   ]
  },
  {
   "cell_type": "markdown",
   "metadata": {},
   "source": [
    "The seed is set to a value so that results are consistent from run to run. If you change the seed you will get slightly different results but it should not alter the overall concepts."
   ]
  },
  {
   "cell_type": "code",
   "execution_count": 3,
   "metadata": {},
   "outputs": [],
   "source": [
    "np.random.seed(81506)"
   ]
  },
  {
   "cell_type": "markdown",
   "metadata": {},
   "source": [
    "## Scalar\n",
    "\n",
    "A scalar is the simpliest structure in linear algebra. It consists of a single number. In mathmatical terms is is a magnitude but for most perposes we just think of it as a number.\n",
    "\n",
    "The equation \n",
    "\\begin{align}\n",
    "1 + 4 = 5\n",
    "\\end{align}\n",
    "Is the addition of two scalars $1$ and $4$ and produces a scalar $5$.\n",
    "\n",
    "In linear algebra we are often concerned about the shape of the differnet data types. The shape of a scalar is always 1,1 -- this refers to the number of rows and columns\n",
    "\n",
    "To manipulate scalars in Python you can simply enter the equation as seen below.\n"
   ]
  },
  {
   "cell_type": "code",
   "execution_count": 9,
   "metadata": {},
   "outputs": [
    {
     "output_type": "execute_result",
     "data": {
      "text/plain": "5"
     },
     "metadata": {},
     "execution_count": 9
    }
   ],
   "source": [
    "1+4"
   ]
  },
  {
   "cell_type": "markdown",
   "metadata": {},
   "source": [
    "## Vectors\n",
    "\n",
    "As discussed in the video a vector has more information than a scalar. A vector includes both magnitude and direction. This is where the math and the programming diverge slgithly without a lot of explaination. The cliff notes version is that the ordered list which we refer to as a numpy array is part of a `vector space` and therfore we can call these ordered lists a vector.\n",
    "\n",
    "The baseball players at NCSU have jersey number in sequential order starting with 1 and running through number 26. To create a numpy array of the players use the code below"
   ]
  },
  {
   "cell_type": "code",
   "execution_count": 8,
   "metadata": {},
   "outputs": [
    {
     "output_type": "stream",
     "name": "stdout",
     "text": "[ 1  2  3  4  5  6  7  8  9 10 11 12 13 14 15 16 17 18 19 20 21 22 23 24\n 25 26]\n"
    }
   ],
   "source": [
    "vector_player_numbers = np.arange(26)+1\n",
    "print(vector_player_numbers)"
   ]
  },
  {
   "cell_type": "markdown",
   "metadata": {},
   "source": [
    "To create a list of random integers you can use hte code below"
   ]
  },
  {
   "cell_type": "code",
   "execution_count": 4,
   "metadata": {},
   "outputs": [
    {
     "output_type": "execute_result",
     "data": {
      "text/plain": "array([6, 7, 6, 5, 4, 3, 2, 7, 5, 2])"
     },
     "metadata": {},
     "execution_count": 4
    }
   ],
   "source": [
    "np.random.randint(1,10,10)"
   ]
  },
  {
   "cell_type": "markdown",
   "metadata": {},
   "source": [
    "The baseball field positions are listed below along with a picture showing the normal position location\n",
    "\n",
    "1. Pitcher\n",
    "2. Catcher\n",
    "3. First baseman \n",
    "4. Second baseman\n",
    "5. Third baseman\n",
    "6. Shortstop\n",
    "7. Left fielder\n",
    "8. Center fielder\n",
    "9. Right fielder\n",
    "\n",
    "<img src=\"Baseball_positions.png\" alt=\"Baseball positions graphic\" title=\"Baseball Positions\" />\n"
   ]
  },
  {
   "cell_type": "code",
   "execution_count": null,
   "metadata": {},
   "outputs": [],
   "source": []
  },
  {
   "cell_type": "markdown",
   "metadata": {},
   "source": [
    "## Matrices\n",
    "Matricies are more than one matrix. They are more complicated than a vector because they two dimensional as compared to a vector that is one direction (a row vector or column vector)\n",
    "\n",
    "A matrix can be thought of a collection of vectors.\n",
    "To build on our baseball example if the positions a player plays in a single game is a vector then if we combine multiple games together we would have several vectors stacked on top of each other and that would be a vector so "
   ]
  },
  {
   "cell_type": "code",
   "execution_count": null,
   "metadata": {},
   "outputs": [],
   "source": []
  }
 ],
 "metadata": {
  "language_info": {
   "codemirror_mode": {
    "name": "ipython",
    "version": 3
   },
   "file_extension": ".py",
   "mimetype": "text/x-python",
   "name": "python",
   "nbconvert_exporter": "python",
   "pygments_lexer": "ipython3",
   "version": "3.7.6-final"
  },
  "orig_nbformat": 2,
  "kernelspec": {
   "name": "python37064bitbaseconda74f6bf482b3748dfab216fe046a8ef20",
   "display_name": "Python 3.7.0 64-bit ('base': conda)"
  }
 },
 "nbformat": 4,
 "nbformat_minor": 2
}