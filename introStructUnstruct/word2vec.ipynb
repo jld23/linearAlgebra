{
 "cells": [
  {
   "cell_type": "markdown",
   "metadata": {},
   "source": [
    "# Overview\n",
    "\n",
    "In this notebook I'll illistrate how text analyics can be done using Python and public models\n",
    "\n",
    "**There are a set of exercisese to do by hand, followed by code. We love computers because they add faster than we do and never get tiered, but it is essential that you do the hand exercies to fully understand what the computer is doing.**\n",
    "\n",
    "The main work behind this is to take text information and convert it to numeical values so that a computer can perform tasks similar to humans.\n",
    "These tasks include:\n",
    "\n",
    "*  Finding similar words\n",
    "*  Clustering documents\n",
    "*  Natural Language Processing (NLP) \n",
    "  *  Sentiment analysis\n",
    "  *  \n",
    "\n",
    "Many text models are based on [GloVe](https://nlp.stanford.edu/projects/glove/) and [word2vec](https://en.wikipedia.org/wiki/Word2vec)\n",
    "\n",
    "## Word2vec\n",
    "\n",
    "\n",
    "\n",
    "## GloVe\n",
    "\n",
    "GloVe is a collection of models that were trained on different corpus. The most common was trained on Wikipedia and includes 6 billion tokens and 400k words.\n",
    "\n"
   ]
  },
  {
   "cell_type": "markdown",
   "metadata": {},
   "source": [
    "# Bag of Words\n",
    "\n",
    "This step takes a document (sentence in our case) and converts it to a numerical form as well as counts the word frequency.\n",
    "\n",
    "Here are two sentences:\n",
    "\n",
    "*  Mason likes to learn about computers.\n",
    "*  Geoffrey likes to play Xbox and write.\n",
    "\n",
    "I'll show you with the first sentence and you can do the second sentence.\n",
    "\n",
    "1. Take the sentence and break it into word tokens:\n",
    "    'Mason', 'likes', 'to', 'learn', 'about', 'computers'\n",
    "\n",
    "1. Count the frequency of each word (token)\n",
    "    bag_of_words1 = {'Mason':1, 'likes':1, 'to':1, 'learn':1, 'about':1, 'computers':1}\n",
    "\n",
    "    bag_of_words2 = {}\n",
    "\n",
    "1. Now combine the two sentences **hint:** 'Mason':1 & 'likes':2\n",
    "\n",
    "    `bag_of_words1 + bag_of_words2 = bag_of_words3`\n",
    "\n",
    "    bag_of_words3 = {}"
   ]
  },
  {
   "cell_type": "markdown",
   "metadata": {},
   "source": [
    "# Setup"
   ]
  },
  {
   "cell_type": "code",
   "execution_count": null,
   "metadata": {},
   "outputs": [],
   "source": []
  }
 ],
 "metadata": {
  "language_info": {
   "codemirror_mode": {
    "name": "ipython",
    "version": 3
   },
   "file_extension": ".py",
   "mimetype": "text/x-python",
   "name": "python",
   "nbconvert_exporter": "python",
   "pygments_lexer": "ipython3",
   "version": 3
  },
  "orig_nbformat": 2
 },
 "nbformat": 4,
 "nbformat_minor": 2
}