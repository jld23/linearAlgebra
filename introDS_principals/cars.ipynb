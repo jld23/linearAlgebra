{
 "cells": [
  {
   "cell_type": "markdown",
   "metadata": {},
   "source": [
    "# Overview\n",
    "\n",
    "This notebook continues the exercise of predicting car pricies based on Craigslist listings.\n",
    "\n",
    "This notebook uses `pandas` and `scikit-learn` two popular Python packages for data science.\n"
   ]
  },
  {
   "cell_type": "markdown",
   "metadata": {},
   "source": [
    "## Setup\n",
    "\n",
    "Here are the packages that need to be loaded to run this example\n",
    "\n",
    "These is where all the needed packages are imported for the exercise. If you get an `ModuleNotFoundError` then install the package (pip or conda) before continuing.These is where all the needed packages are imported for the exercise. If you get an `ModuleNotFoundError` then install the package (pip or conda) before continuing."
   ]
  },
  {
   "cell_type": "code",
   "execution_count": 1,
   "metadata": {},
   "outputs": [],
   "source": [
    "import time\n",
    "import pandas as pd\n",
    "from pandas_profiling import ProfileReport\n",
    "from sklearn import preprocessing\n",
    "from sklearn.preprocessing import OneHotEncoder\n",
    "from sklearn.model_selection import train_test_split\n",
    "from sklearn.preprocessing import StandardScaler\n",
    "from sklearn.neural_network import MLPClassifier\n",
    "\n",
    "from sklearn.compose import ColumnTransformer\n",
    "from sklearn.pipeline import Pipeline\n",
    "from sklearn.impute import SimpleImputer\n",
    "\n",
    "from sklearn.linear_model import LinearRegression, LassoLars, ElasticNet, Ridge, HuberRegressor, PassiveAggressiveRegressor\n",
    "from sklearn.tree import DecisionTreeRegressor\n",
    "from sklearn.ensemble import RandomForestRegressor, GradientBoostingRegressor\n",
    "from sklearn.neural_network import MLPRegressor\n",
    "from sklearn.metrics import explained_variance_score, mean_squared_error"
   ]
  },
  {
   "cell_type": "markdown",
   "metadata": {},
   "source": [
    "## Read data from CSV to Pandas dataFrame"
   ]
  },
  {
   "cell_type": "code",
   "execution_count": 2,
   "metadata": {},
   "outputs": [],
   "source": [
    "cars = pd.read_csv('../data/vehicles.csv')"
   ]
  },
  {
   "cell_type": "markdown",
   "metadata": {},
   "source": [
    "## Print first observations for sanity"
   ]
  },
  {
   "cell_type": "code",
   "execution_count": 3,
   "metadata": {},
   "outputs": [
    {
     "output_type": "execute_result",
     "data": {
      "text/plain": "           id                                                url      region  \\\n0  7088746062  https://greensboro.craigslist.org/ctd/d/cary-2...  greensboro   \n1  7088745301  https://greensboro.craigslist.org/ctd/d/bmw-3-...  greensboro   \n2  7088744126  https://greensboro.craigslist.org/cto/d/greens...  greensboro   \n3  7088743681  https://greensboro.craigslist.org/ctd/d/cary-2...  greensboro   \n4  7074612539  https://lincoln.craigslist.org/ctd/d/gretna-20...     lincoln   \n\n                          region_url  price    year manufacturer  \\\n0  https://greensboro.craigslist.org  10299  2012.0        acura   \n1  https://greensboro.craigslist.org      0  2011.0          bmw   \n2  https://greensboro.craigslist.org   9500  2011.0       jaguar   \n3  https://greensboro.craigslist.org   3995  2004.0        honda   \n4     https://lincoln.craigslist.org  41988  2016.0    chevrolet   \n\n               model  condition    cylinders  ... drive  size         type  \\\n0                 tl        NaN          NaN  ...   NaN   NaN        other   \n1                335        NaN  6 cylinders  ...   rwd   NaN  convertible   \n2                 xf  excellent          NaN  ...   NaN   NaN          NaN   \n3            element        NaN          NaN  ...   fwd   NaN          SUV   \n4  silverado k2500hd        NaN          NaN  ...   NaN   NaN          NaN   \n\n  paint_color                                          image_url  \\\n0        blue  https://images.craigslist.org/01414_3LIXs9EO33...   \n1        blue  https://images.craigslist.org/00S0S_1kTatLGLxB...   \n2        blue  https://images.craigslist.org/00505_f22HGItCRp...   \n3      orange  https://images.craigslist.org/00E0E_eAUnhFF86M...   \n4         NaN  https://images.craigslist.org/00S0S_8msT7RQquO...   \n\n                                         description county state      lat  \\\n0  2012 Acura TL Base 4dr Sedan     Offered by: B...    NaN    nc  35.7636   \n1  BMW 3 Series 335i Convertible Navigation Dakot...    NaN    nc      NaN   \n2  2011 jaguar XF premium - estate sale. Retired ...    NaN    nc  36.1032   \n3  2004 Honda Element LX 4dr SUV     Offered by: ...    NaN    nc  35.7636   \n4  Shop Indoors, Heated Showroom!!!www.gretnaauto...    NaN    ne  41.1345   \n\n      long  \n0 -78.7443  \n1      NaN  \n2 -79.8794  \n3 -78.7443  \n4 -96.2458  \n\n[5 rows x 25 columns]",
      "text/html": "<div>\n<style scoped>\n    .dataframe tbody tr th:only-of-type {\n        vertical-align: middle;\n    }\n\n    .dataframe tbody tr th {\n        vertical-align: top;\n    }\n\n    .dataframe thead th {\n        text-align: right;\n    }\n</style>\n<table border=\"1\" class=\"dataframe\">\n  <thead>\n    <tr style=\"text-align: right;\">\n      <th></th>\n      <th>id</th>\n      <th>url</th>\n      <th>region</th>\n      <th>region_url</th>\n      <th>price</th>\n      <th>year</th>\n      <th>manufacturer</th>\n      <th>model</th>\n      <th>condition</th>\n      <th>cylinders</th>\n      <th>...</th>\n      <th>drive</th>\n      <th>size</th>\n      <th>type</th>\n      <th>paint_color</th>\n      <th>image_url</th>\n      <th>description</th>\n      <th>county</th>\n      <th>state</th>\n      <th>lat</th>\n      <th>long</th>\n    </tr>\n  </thead>\n  <tbody>\n    <tr>\n      <th>0</th>\n      <td>7088746062</td>\n      <td>https://greensboro.craigslist.org/ctd/d/cary-2...</td>\n      <td>greensboro</td>\n      <td>https://greensboro.craigslist.org</td>\n      <td>10299</td>\n      <td>2012.0</td>\n      <td>acura</td>\n      <td>tl</td>\n      <td>NaN</td>\n      <td>NaN</td>\n      <td>...</td>\n      <td>NaN</td>\n      <td>NaN</td>\n      <td>other</td>\n      <td>blue</td>\n      <td>https://images.craigslist.org/01414_3LIXs9EO33...</td>\n      <td>2012 Acura TL Base 4dr Sedan     Offered by: B...</td>\n      <td>NaN</td>\n      <td>nc</td>\n      <td>35.7636</td>\n      <td>-78.7443</td>\n    </tr>\n    <tr>\n      <th>1</th>\n      <td>7088745301</td>\n      <td>https://greensboro.craigslist.org/ctd/d/bmw-3-...</td>\n      <td>greensboro</td>\n      <td>https://greensboro.craigslist.org</td>\n      <td>0</td>\n      <td>2011.0</td>\n      <td>bmw</td>\n      <td>335</td>\n      <td>NaN</td>\n      <td>6 cylinders</td>\n      <td>...</td>\n      <td>rwd</td>\n      <td>NaN</td>\n      <td>convertible</td>\n      <td>blue</td>\n      <td>https://images.craigslist.org/00S0S_1kTatLGLxB...</td>\n      <td>BMW 3 Series 335i Convertible Navigation Dakot...</td>\n      <td>NaN</td>\n      <td>nc</td>\n      <td>NaN</td>\n      <td>NaN</td>\n    </tr>\n    <tr>\n      <th>2</th>\n      <td>7088744126</td>\n      <td>https://greensboro.craigslist.org/cto/d/greens...</td>\n      <td>greensboro</td>\n      <td>https://greensboro.craigslist.org</td>\n      <td>9500</td>\n      <td>2011.0</td>\n      <td>jaguar</td>\n      <td>xf</td>\n      <td>excellent</td>\n      <td>NaN</td>\n      <td>...</td>\n      <td>NaN</td>\n      <td>NaN</td>\n      <td>NaN</td>\n      <td>blue</td>\n      <td>https://images.craigslist.org/00505_f22HGItCRp...</td>\n      <td>2011 jaguar XF premium - estate sale. Retired ...</td>\n      <td>NaN</td>\n      <td>nc</td>\n      <td>36.1032</td>\n      <td>-79.8794</td>\n    </tr>\n    <tr>\n      <th>3</th>\n      <td>7088743681</td>\n      <td>https://greensboro.craigslist.org/ctd/d/cary-2...</td>\n      <td>greensboro</td>\n      <td>https://greensboro.craigslist.org</td>\n      <td>3995</td>\n      <td>2004.0</td>\n      <td>honda</td>\n      <td>element</td>\n      <td>NaN</td>\n      <td>NaN</td>\n      <td>...</td>\n      <td>fwd</td>\n      <td>NaN</td>\n      <td>SUV</td>\n      <td>orange</td>\n      <td>https://images.craigslist.org/00E0E_eAUnhFF86M...</td>\n      <td>2004 Honda Element LX 4dr SUV     Offered by: ...</td>\n      <td>NaN</td>\n      <td>nc</td>\n      <td>35.7636</td>\n      <td>-78.7443</td>\n    </tr>\n    <tr>\n      <th>4</th>\n      <td>7074612539</td>\n      <td>https://lincoln.craigslist.org/ctd/d/gretna-20...</td>\n      <td>lincoln</td>\n      <td>https://lincoln.craigslist.org</td>\n      <td>41988</td>\n      <td>2016.0</td>\n      <td>chevrolet</td>\n      <td>silverado k2500hd</td>\n      <td>NaN</td>\n      <td>NaN</td>\n      <td>...</td>\n      <td>NaN</td>\n      <td>NaN</td>\n      <td>NaN</td>\n      <td>NaN</td>\n      <td>https://images.craigslist.org/00S0S_8msT7RQquO...</td>\n      <td>Shop Indoors, Heated Showroom!!!www.gretnaauto...</td>\n      <td>NaN</td>\n      <td>ne</td>\n      <td>41.1345</td>\n      <td>-96.2458</td>\n    </tr>\n  </tbody>\n</table>\n<p>5 rows × 25 columns</p>\n</div>"
     },
     "metadata": {},
     "execution_count": 3
    }
   ],
   "source": [
    "cars.head()"
   ]
  },
  {
   "cell_type": "markdown",
   "metadata": {},
   "source": [
    "## Print the columns and their respective types for the cars dataFrame"
   ]
  },
  {
   "cell_type": "code",
   "execution_count": 4,
   "metadata": {},
   "outputs": [
    {
     "output_type": "stream",
     "name": "stdout",
     "text": "<class 'pandas.core.frame.DataFrame'>\nRangeIndex: 539759 entries, 0 to 539758\nData columns (total 25 columns):\n #   Column        Non-Null Count   Dtype  \n---  ------        --------------   -----  \n 0   id            539759 non-null  int64  \n 1   url           539759 non-null  object \n 2   region        539759 non-null  object \n 3   region_url    539759 non-null  object \n 4   price         539759 non-null  int64  \n 5   year          538772 non-null  float64\n 6   manufacturer  516175 non-null  object \n 7   model         531746 non-null  object \n 8   condition     303707 non-null  object \n 9   cylinders     321264 non-null  object \n 10  fuel          536366 non-null  object \n 11  odometer      440783 non-null  float64\n 12  title_status  536819 non-null  object \n 13  transmission  535786 non-null  object \n 14  vin           315349 non-null  object \n 15  drive         383987 non-null  object \n 16  size          168550 non-null  object \n 17  type          392290 non-null  object \n 18  paint_color   365520 non-null  object \n 19  image_url     539740 non-null  object \n 20  description   539738 non-null  object \n 21  county        0 non-null       float64\n 22  state         539759 non-null  object \n 23  lat           530785 non-null  float64\n 24  long          530785 non-null  float64\ndtypes: float64(5), int64(2), object(18)\nmemory usage: 103.0+ MB\n"
    }
   ],
   "source": [
    "cars.info()"
   ]
  },
  {
   "cell_type": "markdown",
   "metadata": {},
   "source": [
    "## Create profile of full dataset using `pandas-profile`"
   ]
  },
  {
   "cell_type": "code",
   "execution_count": null,
   "metadata": {},
   "outputs": [],
   "source": [
    "prof = ProfileReport(cars)\n",
    "prof.to_file(output_file='vehicle_profile.html')"
   ]
  },
  {
   "cell_type": "markdown",
   "metadata": {},
   "source": [
    "## Filter the data for cars with more than 300,000 miles and sort decending\n",
    "\n",
    "This is an example of how Python programers can chain methods to each other to accomplish multiple tasks in the same line of code"
   ]
  },
  {
   "cell_type": "code",
   "execution_count": null,
   "metadata": {},
   "outputs": [],
   "source": [
    "cars[cars['odometer']>300000].filter(items=['year','price','odometer','model']).sort_values('odometer', ascending=False).head()\n",
    "#filter(items=['one', 'three'])\n",
    "#,['year','price','odometer','model']]"
   ]
  },
  {
   "cell_type": "markdown",
   "metadata": {},
   "source": [
    "## Filter the number of columns\n",
    "\n",
    "With wide datasets it is often hard to see all the columns. The code below is an example of how the columns can be filtered to just those that are desired.\n",
    "\n",
    "As with all things Python, there are many ways to accomplish this task"
   ]
  },
  {
   "cell_type": "code",
   "execution_count": null,
   "metadata": {},
   "outputs": [],
   "source": [
    "cars.filter(items=['year','price','odometer','model']).sort_values('odometer', ascending=False).head()\n"
   ]
  },
  {
   "cell_type": "code",
   "execution_count": null,
   "metadata": {},
   "outputs": [],
   "source": [
    "cars.filter(items=['year','price','odometer','model']).sort_values('price', ascending=False).head()"
   ]
  },
  {
   "cell_type": "markdown",
   "metadata": {},
   "source": [
    "# Create new dataFrame `cars2` \n",
    "\n",
    "`cars2` only includes listings that meet all the following criteria\n",
    "*    newer than 2000\n",
    "*    cost less than $40,000\n",
    "*    have less than 100,000 miles"
   ]
  },
  {
   "cell_type": "code",
   "execution_count": 5,
   "metadata": {},
   "outputs": [],
   "source": [
    "cars2 = cars[(cars['year']>2000) & (cars['price']<40000) & (cars['odometer']<100000)]"
   ]
  },
  {
   "cell_type": "markdown",
   "metadata": {},
   "source": [
    "## Comparing the shape of `cars` and `cars2`\n",
    "\n",
    "I want to see how many rows and columns `cars` has and how many were lost due to the `filter` method\n",
    "\n",
    "The data shows a reduction from 540K to 219K"
   ]
  },
  {
   "cell_type": "code",
   "execution_count": 6,
   "metadata": {},
   "outputs": [
    {
     "output_type": "execute_result",
     "data": {
      "text/plain": "(539759, 25)"
     },
     "metadata": {},
     "execution_count": 6
    }
   ],
   "source": [
    "cars.shape"
   ]
  },
  {
   "cell_type": "code",
   "execution_count": 7,
   "metadata": {},
   "outputs": [
    {
     "output_type": "execute_result",
     "data": {
      "text/plain": "(218870, 25)"
     },
     "metadata": {},
     "execution_count": 7
    }
   ],
   "source": [
    "cars2.shape"
   ]
  },
  {
   "cell_type": "code",
   "execution_count": null,
   "metadata": {},
   "outputs": [],
   "source": [
    "prof = ProfileReport(cars2)\n",
    "prof.to_file(output_file='vehicle_profile2.html')"
   ]
  },
  {
   "cell_type": "code",
   "execution_count": 8,
   "metadata": {},
   "outputs": [],
   "source": [
    "cars2.to_csv('../data/cars2.zip')"
   ]
  },
  {
   "cell_type": "code",
   "execution_count": 79,
   "metadata": {},
   "outputs": [],
   "source": [
    "cars2 = pd.read_csv('../data/cars2.zip')"
   ]
  },
  {
   "cell_type": "code",
   "execution_count": 80,
   "metadata": {},
   "outputs": [
    {
     "output_type": "execute_result",
     "data": {
      "text/plain": "Unnamed: 0        int64\nid                int64\nurl              object\nregion           object\nregion_url       object\nprice             int64\nyear            float64\nmanufacturer     object\nmodel            object\ncondition        object\ncylinders        object\nfuel             object\nodometer        float64\ntitle_status     object\ntransmission     object\nvin              object\ndrive            object\nsize             object\ntype             object\npaint_color      object\nimage_url        object\ndescription      object\ncounty          float64\nstate            object\nlat             float64\nlong            float64\ndtype: object"
     },
     "metadata": {},
     "execution_count": 80
    }
   ],
   "source": [
    "cars2.dtypes"
   ]
  },
  {
   "cell_type": "markdown",
   "metadata": {},
   "source": [
    "## Setup for data prep and modeling\n",
    "\n",
    "To make the code more portable and easier to update. In the cell below I will define the inputs and targets.\n",
    "\n",
    "The inputs are the attributes of a car that will be used to predict the price, which is the target.\n",
    "\n",
    "To deal with missing values, there are different treatments for nominal vs interval data. Below lists are defined to identify the type of each variable.\n",
    "\n",
    "The virtue of this type of organization is that to add or subtract a variable from the model, it only requires modifications to this cell and then a rerun of the code below. \n",
    "\n",
    "It also allows more copy/paste from project to projects saving time in the long run."
   ]
  },
  {
   "cell_type": "code",
   "execution_count": 9,
   "metadata": {},
   "outputs": [
    {
     "output_type": "stream",
     "name": "stdout",
     "text": "(218870, 17) (218870,)\n"
    }
   ],
   "source": [
    "inputs = cars2.drop(columns=['price','id','url','region_url','vin','description','county','image_url'])\n",
    "nominal = ['region', 'manufacturer', 'fuel', 'model','title_status','transmission', 'drive', 'type','paint_color','state']\n",
    "ordinal = ['condition','size','cylinders']\n",
    "interval = ['year','odometer','lat','long']\n",
    "target = cars2.price\n",
    "print(inputs.shape, target.shape)\n"
   ]
  },
  {
   "cell_type": "markdown",
   "metadata": {},
   "source": [
    "## Create Pipelines\n",
    "\n",
    "A `pipeline` is a process or set of steps that you want to organize into specific pattern.\n",
    "\n",
    "In this pipeline below, each variable is imputed if it is missing based on its type and then scaled to improve model performance (scaling input is a best practice along with spliting data to training and validation)."
   ]
  },
  {
   "cell_type": "code",
   "execution_count": 10,
   "metadata": {},
   "outputs": [],
   "source": [
    "numeric_transformer = Pipeline(steps=[\n",
    "    ('imputer', SimpleImputer(strategy='median')),\n",
    "    ('scaler', StandardScaler())])\n",
    "\n",
    "categorical_transformer = Pipeline(steps=[\n",
    "    ('imputer', SimpleImputer(strategy='constant', fill_value='missing')),\n",
    "    ('onehot', OneHotEncoder(handle_unknown='ignore'))])\n",
    "\n",
    "preprocessor = ColumnTransformer(\n",
    "    transformers=[\n",
    "        ('num', numeric_transformer, interval),\n",
    "        ('cat', categorical_transformer, nominal),\n",
    "        ('ord', categorical_transformer, ordinal)])"
   ]
  },
  {
   "cell_type": "markdown",
   "metadata": {},
   "source": [
    "## Split the data into training and validation (70/30)"
   ]
  },
  {
   "cell_type": "code",
   "execution_count": 11,
   "metadata": {},
   "outputs": [],
   "source": [
    "input_train, input_test, target_train, target_test = train_test_split(inputs, target, test_size = 0.30, random_state=9878)"
   ]
  },
  {
   "cell_type": "markdown",
   "metadata": {},
   "source": [
    "# Build the models\n",
    "\n",
    "In the code below a list of many algorythnms is provided and for each a model is build on the training data. \n",
    "\n",
    "The model is then applied to the validation data and assessment metrics are calculated.\n",
    "\n",
    "The assessment metrics are then printed so that comparisons can be made.\n",
    "\n",
    "**Remember:** there is no single best modeling algorthym so you should try many types and parameterizations based on the business problems"
   ]
  },
  {
   "cell_type": "code",
   "execution_count": 62,
   "metadata": {},
   "outputs": [],
   "source": [
    "# Creates a results DataFrame. This code is in a different cell to prevent loss run to run.\n",
    "results_df = pd.DataFrame(columns=('model','r_2','explainedVariance','mse','buildTime','scoreTime'))\n",
    "results_df['r_2'] = results_df['r_2'].map('${:,.4f}'.format)\n",
    "results_df['explainedVariance'] = results_df['explainedVariance'].map('${:,.4f}'.format)\n",
    "results_df['mse'] = results_df['mse'].map('${:,.0f}'.format)\n",
    "results_df['buildTime'] = results_df['buildTime'].map('${:,.1f}'.format)\n",
    "results_df['scoreTime'] = results_df['scoreTime'].map('${:,.1f}'.format)"
   ]
  },
  {
   "cell_type": "code",
   "execution_count": 67,
   "metadata": {},
   "outputs": [
    {
     "output_type": "stream",
     "name": "stdout",
     "text": "model score for MLPRegressor(): R_2: 0.6342 Explained Variance:0.6342 MSE:37016331 Build Time(s):19540.3 Score Time(s):2.1\nCPU times: user 14h 42min 43s, sys: 2h 16min 48s, total: 16h 59min 31s\nWall time: 5h 25min 45s\n"
    }
   ],
   "source": [
    "%%time\n",
    "# List of models to run\n",
    "model_list = [LinearRegression(), ElasticNet(), Ridge(), HuberRegressor(), PassiveAggressiveRegressor(), DecisionTreeRegressor(), RandomForestRegressor(), GradientBoostingRegressor(), MLPRegressor()]\n",
    "model_list = [MLPRegressor(early_stopping=True, hidden_layer_sizes=(3,50))]\n",
    "# LassoLars(), \n",
    "\n",
    "# loop through model list\n",
    "for model in model_list:\n",
    "    build_model = Pipeline(steps=[\n",
    "        ('preprocessor', preprocessor),\n",
    "        ('model', model)])\n",
    "    ts_build = time.time()\n",
    "    build_model.fit(input_train, target_train)\n",
    "    ts_score = time.time()\n",
    "    target_pred = build_model.predict(input_test)\n",
    "    ts_done = time.time()\n",
    "    results = pd.DataFrame([[model, \n",
    "                build_model.score(input_test, target_test), \n",
    "                explained_variance_score(target_test, target_pred), \n",
    "                mean_squared_error(target_test, target_pred), \n",
    "                ts_score-ts_build, \n",
    "                ts_done-ts_score]], columns=results_df.columns)\n",
    "    # append results to dataFrame\n",
    "    results_df = results_df.append(results, ignore_index=True)\n",
    "\n",
    "    print(\"model score for {}: R_2: {:0.4f} Explained Variance:{:0.4f} MSE:{:0.0f} Build Time(s):{:0.1f} Score Time(s):{:0.1f}\".format(model, build_model.score(input_test, target_test), explained_variance_score(target_test, target_pred), mean_squared_error(target_test, target_pred), ts_score-ts_build, ts_done-ts_score))"
   ]
  },
  {
   "cell_type": "code",
   "execution_count": 78,
   "metadata": {},
   "outputs": [
    {
     "output_type": "execute_result",
     "data": {
      "text/plain": "                            model      r_2 explainedVariance          mse  \\\n0                    ElasticNet()  $0.2273           $0.2273  $78,199,094   \n1                         Ridge()  $0.5074           $0.5074  $49,848,804   \n2                HuberRegressor()  $0.4090           $0.4201  $59,806,606   \n3  ElasticNet(selection='random')  $0.2273           $0.2273  $78,199,078   \n4                         Ridge()  $0.5074           $0.5074  $49,848,804   \n5                HuberRegressor()  $0.4090           $0.4201  $59,806,606   \n6                  MLPRegressor()  $0.6342           $0.6342  $37,016,331   \n\n   buildTime scoreTime  \n0      $21.1      $0.4  \n1       $3.6      $0.4  \n2       $6.2      $0.4  \n3      $64.4      $0.4  \n4       $3.7      $0.4  \n5       $6.1      $0.4  \n6  $19,540.3      $2.1  ",
      "text/html": "<div>\n<style scoped>\n    .dataframe tbody tr th:only-of-type {\n        vertical-align: middle;\n    }\n\n    .dataframe tbody tr th {\n        vertical-align: top;\n    }\n\n    .dataframe thead th {\n        text-align: right;\n    }\n</style>\n<table border=\"1\" class=\"dataframe\">\n  <thead>\n    <tr style=\"text-align: right;\">\n      <th></th>\n      <th>model</th>\n      <th>r_2</th>\n      <th>explainedVariance</th>\n      <th>mse</th>\n      <th>buildTime</th>\n      <th>scoreTime</th>\n    </tr>\n  </thead>\n  <tbody>\n    <tr>\n      <th>0</th>\n      <td>ElasticNet()</td>\n      <td>$0.2273</td>\n      <td>$0.2273</td>\n      <td>$78,199,094</td>\n      <td>$21.1</td>\n      <td>$0.4</td>\n    </tr>\n    <tr>\n      <th>1</th>\n      <td>Ridge()</td>\n      <td>$0.5074</td>\n      <td>$0.5074</td>\n      <td>$49,848,804</td>\n      <td>$3.6</td>\n      <td>$0.4</td>\n    </tr>\n    <tr>\n      <th>2</th>\n      <td>HuberRegressor()</td>\n      <td>$0.4090</td>\n      <td>$0.4201</td>\n      <td>$59,806,606</td>\n      <td>$6.2</td>\n      <td>$0.4</td>\n    </tr>\n    <tr>\n      <th>3</th>\n      <td>ElasticNet(selection='random')</td>\n      <td>$0.2273</td>\n      <td>$0.2273</td>\n      <td>$78,199,078</td>\n      <td>$64.4</td>\n      <td>$0.4</td>\n    </tr>\n    <tr>\n      <th>4</th>\n      <td>Ridge()</td>\n      <td>$0.5074</td>\n      <td>$0.5074</td>\n      <td>$49,848,804</td>\n      <td>$3.7</td>\n      <td>$0.4</td>\n    </tr>\n    <tr>\n      <th>5</th>\n      <td>HuberRegressor()</td>\n      <td>$0.4090</td>\n      <td>$0.4201</td>\n      <td>$59,806,606</td>\n      <td>$6.1</td>\n      <td>$0.4</td>\n    </tr>\n    <tr>\n      <th>6</th>\n      <td>MLPRegressor()</td>\n      <td>$0.6342</td>\n      <td>$0.6342</td>\n      <td>$37,016,331</td>\n      <td>$19,540.3</td>\n      <td>$2.1</td>\n    </tr>\n  </tbody>\n</table>\n</div>"
     },
     "metadata": {},
     "execution_count": 78
    }
   ],
   "source": [
    "#results_df['r_2'] = results_df['r_2'].map('{:0.4f}'.format)\n",
    "#results_df['explainedVariance'] = results_df['explainedVariance'].map('{:0.4f}'.format)\n",
    "#results_df['mse'] = results_df['mse'].map('{:,0.0f}'.format)\n",
    "#results_df['buildTime'] = results_df['buildTime'].map('{:.1f}'.format)\n",
    "#results_df['scoreTime'] = results_df['scoreTime'].map('{:.1f}'.format)\n",
    "results_df"
   ]
  },
  {
   "cell_type": "code",
   "execution_count": null,
   "metadata": {},
   "outputs": [],
   "source": [
    "scaler = StandardScaler()\n",
    "scaler.fit(input_train.loc[interval])\n",
    "\n",
    "onehot = OneHotEncoder(dtype=np.int, sparse=True)\n",
    "onehot.fit(input_train.loc[nominal])\n",
    "\n",
    "input_train_nominal = onehot.transform(input_train.loc[nominal])\n",
    "input_train_interval = scaler.transform(input_train.loc[interval])\n",
    "input_test = scaler.transform(input_test)"
   ]
  },
  {
   "cell_type": "code",
   "execution_count": null,
   "metadata": {},
   "outputs": [],
   "source": [
    "import numpy as np\n",
    "import pandas as pd\n",
    "from sklearn.metrics import roc_curve, auc\n",
    "from sklearn.metrics import accuracy_score, recall_score, precision_score\n",
    "from sklearn.model_selection import cross_val_score\n",
    "\n",
    "\n",
    "\n",
    "def displaymetrics(code: list, models: list, X_train: np.array, X_test: np.array, X: pd.DataFrame):\n",
    "    for model in models:  # or for i in range(0, len(models)):\n",
    "        y_score = model.fit(X_train, y_train).decision_function(X_test)\n",
    "        # or y_score = models[i].fit(X_train, y_train).decision_function(X_test)\n",
    "        fpr, tpr, _ = roc_curve(y_test, y_score)\n",
    "        # etc etc"
   ]
  }
 ],
 "metadata": {
  "language_info": {
   "codemirror_mode": {
    "name": "ipython",
    "version": 3
   },
   "file_extension": ".py",
   "mimetype": "text/x-python",
   "name": "python",
   "nbconvert_exporter": "python",
   "pygments_lexer": "ipython3",
   "version": "3.7.6-final"
  },
  "orig_nbformat": 2,
  "kernelspec": {
   "name": "python37064bitbaseconda74f6bf482b3748dfab216fe046a8ef20",
   "display_name": "Python 3.7.0 64-bit ('base': conda)"
  }
 },
 "nbformat": 4,
 "nbformat_minor": 2
}